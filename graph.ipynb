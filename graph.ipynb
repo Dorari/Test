{
 "cells": [
  {
   "cell_type": "code",
   "execution_count": 28,
   "metadata": {},
   "outputs": [
    {
     "data": {
      "text/plain": [
       "10        0.001\n",
       "50        0.001\n",
       "100       0.001\n",
       "500       0.002\n",
       "1000      0.001\n",
       "5000      0.002\n",
       "10000     0.002\n",
       "50000     0.010\n",
       "100000    0.016\n",
       "500000    0.050\n",
       "dtype: float64"
      ]
     },
     "execution_count": 28,
     "metadata": {},
     "output_type": "execute_result"
    }
   ],
   "source": [
    "import pandas as pd\n",
    "g = pd.Series([0.001,0.001,0.001,0.002,0.001,0.002,0.002,0.010,0.016,0.050],\n",
    "index =['10','50','100','500','1000','5000','10000','50000','100000','500000'])\n",
    "g"
   ]
  },
  {
   "cell_type": "code",
   "execution_count": 29,
   "metadata": {},
   "outputs": [
    {
     "data": {
      "text/plain": [
       "<AxesSubplot:>"
      ]
     },
     "execution_count": 29,
     "metadata": {},
     "output_type": "execute_result"
    },
    {
     "data": {
      "image/png": "[encoded data removed]",
      "text/plain": [
       "<Figure size 432x288 with 1 Axes>"
      ]
     },
     "metadata": {
      "needs_background": "light"
     },
     "output_type": "display_data"
    }
   ],
   "source": [
    "%matplotlib inline\n",
    "g.plot()"
   ]
  },
  {
   "cell_type": "code",
   "execution_count": null,
   "metadata": {},
   "outputs": [],
   "source": [
    "#เนื่องจากข้อมูลที่นำมาแสดงนั้นเป็นการสุ่ม เวลาที่ใช้จึงขึ้นอยู่ไม่ค่อยสัมพันธ์กันมากนัก\n",
    "#จึงสรุปได้ว่ายิ่งจำนวนข้อมูลมากเวลาที่ใช้ก็ยิ่งมากไปด้วย\n",
    "#และจากข้อมูลที่ศึกษาถ้าข้อมูลมีการเรียงมาแล้วการใช้ quick Sort จะน้อยลง"
   ]
  }
 ],
 "metadata": {
  "kernelspec": {
   "display_name": "Python 3",
   "language": "python",
   "name": "python3"
  },
  "language_info": {
   "codemirror_mode": {
    "name": "ipython",
    "version": 3
   },
   "file_extension": ".py",
   "mimetype": "text/x-python",
   "name": "python",
   "nbconvert_exporter": "python",
   "pygments_lexer": "ipython3",
   "version": "3.8.5"
  }
 },
 "nbformat": 4,
 "nbformat_minor": 4
}
