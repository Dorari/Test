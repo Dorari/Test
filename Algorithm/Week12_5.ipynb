{
 "cells": [
  {
   "cell_type": "code",
   "execution_count": 7,
   "metadata": {
    "scrolled": true
   },
   "outputs": [
    {
     "data": {
      "text/html": [
       "<div>\n",
       "<style scoped>\n",
       "    .dataframe tbody tr th:only-of-type {\n",
       "        vertical-align: middle;\n",
       "    }\n",
       "\n",
       "    .dataframe tbody tr th {\n",
       "        vertical-align: top;\n",
       "    }\n",
       "\n",
       "    .dataframe thead th {\n",
       "        text-align: right;\n",
       "    }\n",
       "</style>\n",
       "<table border=\"1\" class=\"dataframe\">\n",
       "  <thead>\n",
       "    <tr style=\"text-align: right;\">\n",
       "      <th></th>\n",
       "      <th>Year</th>\n",
       "      <th>TV</th>\n",
       "      <th>Camera</th>\n",
       "      <th>Phone</th>\n",
       "    </tr>\n",
       "  </thead>\n",
       "  <tbody>\n",
       "    <tr>\n",
       "      <th>0</th>\n",
       "      <td>2011</td>\n",
       "      <td>556300</td>\n",
       "      <td>943620</td>\n",
       "      <td>518600</td>\n",
       "    </tr>\n",
       "    <tr>\n",
       "      <th>1</th>\n",
       "      <td>2012</td>\n",
       "      <td>344200</td>\n",
       "      <td>583370</td>\n",
       "      <td>323920</td>\n",
       "    </tr>\n",
       "    <tr>\n",
       "      <th>2</th>\n",
       "      <td>2013</td>\n",
       "      <td>727320</td>\n",
       "      <td>548640</td>\n",
       "      <td>941500</td>\n",
       "    </tr>\n",
       "    <tr>\n",
       "      <th>3</th>\n",
       "      <td>2014</td>\n",
       "      <td>462870</td>\n",
       "      <td>661520</td>\n",
       "      <td>650570</td>\n",
       "    </tr>\n",
       "    <tr>\n",
       "      <th>4</th>\n",
       "      <td>2015</td>\n",
       "      <td>916600</td>\n",
       "      <td>974180</td>\n",
       "      <td>148740</td>\n",
       "    </tr>\n",
       "    <tr>\n",
       "      <th>5</th>\n",
       "      <td>2016</td>\n",
       "      <td>176830</td>\n",
       "      <td>588990</td>\n",
       "      <td>910570</td>\n",
       "    </tr>\n",
       "    <tr>\n",
       "      <th>6</th>\n",
       "      <td>2017</td>\n",
       "      <td>745550</td>\n",
       "      <td>896860</td>\n",
       "      <td>982820</td>\n",
       "    </tr>\n",
       "  </tbody>\n",
       "</table>\n",
       "</div>"
      ],
      "text/plain": [
       "   Year      TV  Camera   Phone\n",
       "0  2011  556300  943620  518600\n",
       "1  2012  344200  583370  323920\n",
       "2  2013  727320  548640  941500\n",
       "3  2014  462870  661520  650570\n",
       "4  2015  916600  974180  148740\n",
       "5  2016  176830  588990  910570\n",
       "6  2017  745550  896860  982820"
      ]
     },
     "execution_count": 7,
     "metadata": {},
     "output_type": "execute_result"
    }
   ],
   "source": [
    "import pandas as pd\n",
    "%matplotlib inline\n",
    "url = 'https://github.com/prasertcbs/tutorial/raw/master/sales.tsv'\n",
    "df=pd.read_table(url)\n",
    "df"
   ]
  },
  {
   "cell_type": "code",
   "execution_count": 8,
   "metadata": {},
   "outputs": [
    {
     "data": {
      "text/html": [
       "<div>\n",
       "<style scoped>\n",
       "    .dataframe tbody tr th:only-of-type {\n",
       "        vertical-align: middle;\n",
       "    }\n",
       "\n",
       "    .dataframe tbody tr th {\n",
       "        vertical-align: top;\n",
       "    }\n",
       "\n",
       "    .dataframe thead th {\n",
       "        text-align: right;\n",
       "    }\n",
       "</style>\n",
       "<table border=\"1\" class=\"dataframe\">\n",
       "  <thead>\n",
       "    <tr style=\"text-align: right;\">\n",
       "      <th></th>\n",
       "      <th>Year</th>\n",
       "      <th>TV</th>\n",
       "      <th>Camera</th>\n",
       "      <th>Phone</th>\n",
       "      <th>z_TV</th>\n",
       "      <th>z_Camera</th>\n",
       "      <th>z_Phone</th>\n",
       "    </tr>\n",
       "  </thead>\n",
       "  <tbody>\n",
       "    <tr>\n",
       "      <th>0</th>\n",
       "      <td>2011</td>\n",
       "      <td>556300</td>\n",
       "      <td>943620</td>\n",
       "      <td>518600</td>\n",
       "      <td>-0.019870</td>\n",
       "      <td>1.072778</td>\n",
       "      <td>-0.370935</td>\n",
       "    </tr>\n",
       "    <tr>\n",
       "      <th>1</th>\n",
       "      <td>2012</td>\n",
       "      <td>344200</td>\n",
       "      <td>583370</td>\n",
       "      <td>323920</td>\n",
       "      <td>-0.849234</td>\n",
       "      <td>-0.848366</td>\n",
       "      <td>-0.968079</td>\n",
       "    </tr>\n",
       "    <tr>\n",
       "      <th>2</th>\n",
       "      <td>2013</td>\n",
       "      <td>727320</td>\n",
       "      <td>548640</td>\n",
       "      <td>941500</td>\n",
       "      <td>0.648861</td>\n",
       "      <td>-1.033575</td>\n",
       "      <td>0.926232</td>\n",
       "    </tr>\n",
       "    <tr>\n",
       "      <th>3</th>\n",
       "      <td>2014</td>\n",
       "      <td>462870</td>\n",
       "      <td>661520</td>\n",
       "      <td>650570</td>\n",
       "      <td>-0.385204</td>\n",
       "      <td>-0.431607</td>\n",
       "      <td>0.033859</td>\n",
       "    </tr>\n",
       "    <tr>\n",
       "      <th>4</th>\n",
       "      <td>2015</td>\n",
       "      <td>916600</td>\n",
       "      <td>974180</td>\n",
       "      <td>148740</td>\n",
       "      <td>1.388994</td>\n",
       "      <td>1.235749</td>\n",
       "      <td>-1.505411</td>\n",
       "    </tr>\n",
       "  </tbody>\n",
       "</table>\n",
       "</div>"
      ],
      "text/plain": [
       "   Year      TV  Camera   Phone      z_TV  z_Camera   z_Phone\n",
       "0  2011  556300  943620  518600 -0.019870  1.072778 -0.370935\n",
       "1  2012  344200  583370  323920 -0.849234 -0.848366 -0.968079\n",
       "2  2013  727320  548640  941500  0.648861 -1.033575  0.926232\n",
       "3  2014  462870  661520  650570 -0.385204 -0.431607  0.033859\n",
       "4  2015  916600  974180  148740  1.388994  1.235749 -1.505411"
      ]
     },
     "execution_count": 8,
     "metadata": {},
     "output_type": "execute_result"
    }
   ],
   "source": [
    "TV_mean = df.TV.mean()\n",
    "TV_sd = df.TV.std()\n",
    "Camera_mean = df.Camera.mean()\n",
    "Camera_sd = df.Camera.std()\n",
    "Phone_mean = df.Phone.mean()\n",
    "Phone_sd = df.Phone.std()\n",
    "df['z_TV']=(df.TV-TV_mean)/TV_sd\n",
    "df['z_Camera']=(df.Camera-Camera_mean)/Camera_sd\n",
    "df['z_Phone']=(df.Phone-Phone_mean)/Phone_sd\n",
    "df.head()"
   ]
  },
  {
   "cell_type": "code",
   "execution_count": 9,
   "metadata": {},
   "outputs": [
    {
     "data": {
      "text/plain": [
       "(1.9032394707859825e-16, 1.5860328923216522e-16, 1.9032394707859825e-16)"
      ]
     },
     "execution_count": 9,
     "metadata": {},
     "output_type": "execute_result"
    }
   ],
   "source": [
    "df.z_TV.mean(),df.z_Camera.mean(),df.z_Phone.mean()"
   ]
  },
  {
   "cell_type": "code",
   "execution_count": 10,
   "metadata": {},
   "outputs": [
    {
     "data": {
      "text/plain": [
       "(0.9999999999999999, 1.0, 0.9999999999999999)"
      ]
     },
     "execution_count": 10,
     "metadata": {},
     "output_type": "execute_result"
    }
   ],
   "source": [
    "df.z_TV.std(),df.z_Camera.std(),df.z_Phone.std()"
   ]
  },
  {
   "cell_type": "code",
   "execution_count": null,
   "metadata": {},
   "outputs": [],
   "source": []
  }
 ],
 "metadata": {
  "kernelspec": {
   "display_name": "Python 3",
   "language": "python",
   "name": "python3"
  },
  "language_info": {
   "codemirror_mode": {
    "name": "ipython",
    "version": 3
   },
   "file_extension": ".py",
   "mimetype": "text/x-python",
   "name": "python",
   "nbconvert_exporter": "python",
   "pygments_lexer": "ipython3",
   "version": "3.8.5"
  }
 },
 "nbformat": 4,
 "nbformat_minor": 4
}
